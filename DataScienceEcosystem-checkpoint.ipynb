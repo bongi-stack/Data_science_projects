{
 "cells": [
  {
   "cell_type": "markdown",
   "id": "be226958-7915-4674-bfcb-99059d8b1e9b",
   "metadata": {},
   "source": [
    "# Data Science Tools and Ecosystem"
   ]
  },
  {
   "cell_type": "markdown",
   "id": "7c80a789-b5a5-43e9-946d-3e1f90b54dd9",
   "metadata": {},
   "source": [
    "In this notebook, Data Science Tools and Ecosystem are summarized."
   ]
  },
  {
   "cell_type": "markdown",
   "id": "cf73d340-ed82-4c18-9e3d-00718a4ca302",
   "metadata": {},
   "source": [
    "Some of the popular languages that Data Scientists use are:\n",
    "1. Python\n",
    "2. R language\n",
    "3. SQL"
   ]
  },
  {
   "cell_type": "markdown",
   "id": "a7c39357-4ba6-46dd-a8c5-43fe11329be5",
   "metadata": {},
   "source": [
    "Some of the commonly used libraries used by Data Scientists include:\n",
    "- Scala libraries\n",
    "- Python libraries\n",
    "- R libraries"
   ]
  },
  {
   "cell_type": "markdown",
   "id": "1c855091-fe22-4019-8925-e28ad1d29b07",
   "metadata": {},
   "source": [
    "| Data Science Tools |\n",
    "|:--------:|\n",
    "|  RStudio   |\n",
    "|  TensorFlow   |\n",
    "|  Apache Spark   |  "
   ]
  },
  {
   "cell_type": "markdown",
   "id": "57575734-d890-4703-9383-1e63d71d1954",
   "metadata": {},
   "source": [
    "### Below are a few examples of evaluating arithmetic expressions in Python"
   ]
  },
  {
   "cell_type": "code",
   "execution_count": 3,
   "id": "8faee495-7956-4a92-9df9-d6638f58cbb5",
   "metadata": {
    "tags": []
   },
   "outputs": [
    {
     "data": {
      "text/plain": [
       "17"
      ]
     },
     "execution_count": 3,
     "metadata": {},
     "output_type": "execute_result"
    }
   ],
   "source": [
    "# This a simple arithmetic expression to mutiply then add integers (3*4)+5\n",
    "(3*4)+5"
   ]
  },
  {
   "cell_type": "code",
   "execution_count": 6,
   "id": "a97bdaca-cf41-4098-95f7-45920552e5f4",
   "metadata": {
    "tags": []
   },
   "outputs": [
    {
     "data": {
      "text/plain": [
       "3.3333333333333335"
      ]
     },
     "execution_count": 6,
     "metadata": {},
     "output_type": "execute_result"
    }
   ],
   "source": [
    "# This will convert 200 minutes to hours by diving by 60\n",
    "200/60 "
   ]
  },
  {
   "cell_type": "markdown",
   "id": "2d53a6c7-f96f-4ba4-b36f-61b89941369b",
   "metadata": {},
   "source": [
    "**Objectives:**\n",
    "- List popular languages for Data Science\n",
    "- Create a code cell to convert minutes to hours\n",
    "- Insert a markdown cell to list Objectives\n",
    "\n",
    "    "
   ]
  },
  {
   "cell_type": "markdown",
   "id": "e11d512a-f9e5-4732-89d9-a826443af17c",
   "metadata": {},
   "source": [
    "## Author\n",
    "Bongi"
   ]
  },
  {
   "cell_type": "code",
   "execution_count": null,
   "id": "a1118ed1-08f9-4a74-92fe-275a9194f25d",
   "metadata": {},
   "outputs": [],
   "source": []
  }
 ],
 "metadata": {
  "kernelspec": {
   "display_name": "Python 3 (ipykernel)",
   "language": "python",
   "name": "python3"
  },
  "language_info": {
   "codemirror_mode": {
    "name": "ipython",
    "version": 3
   },
   "file_extension": ".py",
   "mimetype": "text/x-python",
   "name": "python",
   "nbconvert_exporter": "python",
   "pygments_lexer": "ipython3",
   "version": "3.11.3"
  }
 },
 "nbformat": 4,
 "nbformat_minor": 5
}
